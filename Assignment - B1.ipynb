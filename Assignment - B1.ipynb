{
 "cells": [
  {
   "cell_type": "code",
   "execution_count": null,
   "metadata": {
    "id": "cPA2kLRzNuiE"
   },
   "outputs": [],
   "source": [
    "import pandas as pd\n",
    "import numpy as np\n",
    "import seaborn as sns \n",
    "import matplotlib.pyplot as plt\n",
    "\n",
    "import pylab\n",
    "import math\n",
    "\n",
    "from sklearn.model_selection import train_test_split\n",
    "from sklearn import metrics \n",
    "from sklearn.ensemble import RandomForestRegressor\n",
    "from sklearn import preprocessing\n",
    "from sklearn.model_selection import GridSearchCV"
   ]
  },
  {
   "cell_type": "code",
   "execution_count": null,
   "metadata": {
    "colab": {
     "base_uri": "https://localhost:8080/",
     "height": 374
    },
    "id": "8GbrJ0PMNuiG",
    "outputId": "273694a0-c127-4c03-ac1b-7043bd0f3995"
   },
   "outputs": [],
   "source": [
    "#import the dataset\n",
    "df = pd.read_csv(\"uber.csv\")\n",
    "df.head()"
   ]
  },
  {
   "cell_type": "code",
   "execution_count": null,
   "metadata": {
    "colab": {
     "base_uri": "https://localhost:8080/"
    },
    "id": "nmOEKqzxNuiH",
    "outputId": "fc3a9223-e31a-447c-c2e9-a4474f122ecd"
   },
   "outputs": [],
   "source": [
    "df.info()"
   ]
  },
  {
   "cell_type": "code",
   "execution_count": null,
   "metadata": {
    "colab": {
     "base_uri": "https://localhost:8080/",
     "height": 364
    },
    "id": "80FpoInbNuiI",
    "outputId": "a5167bb6-b8b8-40a4-c943-2f65142d2fd7"
   },
   "outputs": [],
   "source": [
    "df.describe()"
   ]
  },
  {
   "cell_type": "code",
   "execution_count": null,
   "metadata": {
    "colab": {
     "base_uri": "https://localhost:8080/",
     "height": 357
    },
    "id": "GUEFk9GYNuiJ",
    "outputId": "2c943747-95c9-46f6-b811-ed4c3a5605ae"
   },
   "outputs": [],
   "source": [
    "df = df.drop(['Unnamed: 0','key'], axis = 1)\n",
    "df.head()"
   ]
  },
  {
   "cell_type": "code",
   "execution_count": null,
   "metadata": {
    "colab": {
     "base_uri": "https://localhost:8080/"
    },
    "id": "BqEvLURPNuiK",
    "outputId": "7722087d-56f4-4cd0-b66f-ef92ce2b01b4"
   },
   "outputs": [],
   "source": [
    "df.isnull().sum()"
   ]
  },
  {
   "cell_type": "code",
   "execution_count": null,
   "metadata": {
    "colab": {
     "base_uri": "https://localhost:8080/"
    },
    "id": "olLz9TzFOKON",
    "outputId": "583b0cfd-dfcd-4dce-ac55-d24127034f47"
   },
   "outputs": [],
   "source": [
    "df['dropoff_latitude'].fillna(value=df['dropoff_latitude'].mean(),inplace=True)\n",
    "df['dropoff_longitude'].fillna(value=df['dropoff_longitude'].median(),inplace=True)\n",
    "df.isnull().sum()"
   ]
  },
  {
   "cell_type": "code",
   "execution_count": null,
   "metadata": {
    "colab": {
     "base_uri": "https://localhost:8080/"
    },
    "id": "CNP4fs9WNuiL",
    "outputId": "c5b6227d-db8a-46f2-f528-cb3651ab4525"
   },
   "outputs": [],
   "source": [
    "df.dtypes"
   ]
  },
  {
   "cell_type": "code",
   "execution_count": null,
   "metadata": {
    "colab": {
     "base_uri": "https://localhost:8080/"
    },
    "id": "rw8COq13OGnq",
    "outputId": "947208e1-eb45-415e-876f-3813c0d31088"
   },
   "outputs": [],
   "source": [
    "df.pickup_datetime = pd.to_datetime(df.pickup_datetime, errors='coerce')\n",
    "df.dtypes"
   ]
  },
  {
   "cell_type": "code",
   "execution_count": null,
   "metadata": {
    "colab": {
     "base_uri": "https://localhost:8080/",
     "height": 357
    },
    "id": "Xhso9v5BNuiM",
    "outputId": "b7a615c2-972d-4051-b5f5-7bb2458a84f2"
   },
   "outputs": [],
   "source": [
    "df = df.assign( hour = df.pickup_datetime.dt.hour,\n",
    "                day = df.pickup_datetime.dt.day,\n",
    "                month = df.pickup_datetime.dt.month,\n",
    "                year = df.pickup_datetime.dt.year,\n",
    "                dayofweek = df.pickup_datetime.dt.dayofweek\n",
    "              )\n",
    "df.head()"
   ]
  },
  {
   "cell_type": "code",
   "execution_count": null,
   "metadata": {
    "colab": {
     "base_uri": "https://localhost:8080/"
    },
    "id": "x7RLNzYsNuiN",
    "outputId": "55e7eba3-dd65-4dc8-d12f-0f239a87232b"
   },
   "outputs": [],
   "source": [
    "# drop the column 'pickup_datetime' using drop()\n",
    "# 'axis=1' drops the specified column\n",
    "df = df.drop('pickup_datetime', axis=1)\n",
    "df.dtypes"
   ]
  },
  {
   "cell_type": "code",
   "execution_count": null,
   "metadata": {
    "colab": {
     "base_uri": "https://localhost:8080/",
     "height": 1000
    },
    "id": "AKqFxgxWNuiO",
    "outputId": "11b45ba5-0340-4c22-da3b-f84e7cfc9fb8",
    "scrolled": false
   },
   "outputs": [],
   "source": [
    "df.plot(kind=\"box\",subplots=True,layout=(7,2),figsize=(15,20))\n",
    "\n",
    "#Box plot to check the outliers using the Inter Quartile Range to fill the values\n",
    "def remove_outlier(df1,col):\n",
    "    Q1 = df1[col].quantile(0.25)\n",
    "    Q3 = df1[col].quantile(0.75)\n",
    "    IQR = Q3-Q1\n",
    "    lower_whisker = Q1-1.5*IQR\n",
    "    upper_whisker = Q3+1.5*IQR\n",
    "    df[col] = np.clip(df1[col],lower_whisker,upper_whisker)\n",
    "    return df1\n",
    "\n",
    "def treat_outliers_all(df1,col_list):\n",
    "    for c in col_list:\n",
    "        df1 = remove_outlier(df,c)\n",
    "        return df1\n",
    "\n",
    "df = treat_outliers_all(df,df.iloc[:,0::])\n",
    "\n",
    "#Box plot shows that dataset is free from outliers\n",
    "df.plot(kind=\"box\", subplots=True, layout=(7,2), figsize=(15,20))    "
   ]
  },
  {
   "cell_type": "code",
   "execution_count": null,
   "metadata": {
    "colab": {
     "base_uri": "https://localhost:8080/"
    },
    "id": "a3oV5lKkNuiP",
    "outputId": "98ecc28b-4ca9-40c2-a05a-f9a72fae3882"
   },
   "outputs": [],
   "source": [
    "df.info()"
   ]
  },
  {
   "cell_type": "code",
   "execution_count": null,
   "metadata": {
    "colab": {
     "base_uri": "https://localhost:8080/"
    },
    "id": "2AVZibyFNuiS",
    "outputId": "bb8bed7a-36a1-41ae-bbfe-5205c90590d3"
   },
   "outputs": [],
   "source": [
    "# Finding incorrect latitude (less than or greater than 90) and longitude(greater than or less than 180)\n",
    "incorrect_coordinates = df[(df[\"pickup_latitude\"]>90) | (df[\"pickup_latitude\"]<-90) | (df[\"dropoff_latitude\"]>90) | (df[\"dropoff_latitude\"]<-90) | \n",
    "                           (df[\"pickup_longitude\"]>180) | (df[\"pickup_longitude\"]<-180) | (df[\"dropoff_longitude\"]>180) | (df[\"dropoff_longitude\"]<-180)].index\n",
    "df = df.drop(incorrect_coordinates)\n",
    "df.reset_index(inplace=True)\n",
    "df.info()"
   ]
  },
  {
   "cell_type": "code",
   "execution_count": null,
   "metadata": {
    "colab": {
     "base_uri": "https://localhost:8080/",
     "height": 206
    },
    "id": "3PO0nvIONuiT",
    "outputId": "0b31cf3a-b8a3-46e9-cab8-262e935b908d"
   },
   "outputs": [],
   "source": [
    "# pip install haversine\n",
    "import haversine as hs\n",
    "\n",
    "# Calculate the distance using Haversine to calculate the distance between two points. \n",
    "# Can't use Eucladian as it is for flat surface.\n",
    "travel_dist = []\n",
    "for pos in range(len(df['pickup_longitude'])):\n",
    "    long1, lati1, long2, lati2 = [df['pickup_longitude'][pos], df['pickup_latitude'][pos],\n",
    "                                  df['dropoff_longitude'][pos], df['dropoff_latitude'][pos]]\n",
    "    loc1 = (lati1, long1)\n",
    "    loc2 = (lati2, long2)\n",
    "    \n",
    "    c = hs.haversine(loc1, loc2)\n",
    "    travel_dist.append(c)\n",
    "\n",
    "travel_dist_df = pd.DataFrame(travel_dist)\n",
    "travel_dist_df.head()"
   ]
  },
  {
   "cell_type": "code",
   "execution_count": null,
   "metadata": {
    "colab": {
     "base_uri": "https://localhost:8080/",
     "height": 491
    },
    "id": "TWIC9Kl4NuiU",
    "outputId": "b38ceee1-24e4-4f2e-fd72-08839ea7dc19"
   },
   "outputs": [],
   "source": [
    "df['dist_travel_km'] = travel_dist_df\n",
    "\n",
    "#Uber doesn't travel over 130kms so minimize the distance\n",
    "df = df.loc[(df.dist_travel_km>=1)|(df.dist_travel_km<=130)]\n",
    "print(\"Remaining observastions in the dataset :\", df.shape)\n",
    "\n",
    "#Correlation Heatmap(Light values means highly correlated)\n",
    "fig, axis = plt.subplots(figsize=(10,6))\n",
    "sns.heatmap(df.corr(), annot=True)"
   ]
  },
  {
   "cell_type": "code",
   "execution_count": null,
   "metadata": {
    "id": "oCB58g4YNuiU"
   },
   "outputs": [],
   "source": [
    "X = df[['pickup_longitude','pickup_latitude','dropoff_longitude','dropoff_latitude','passenger_count','hour','day','month','year','dayofweek']]\n",
    "y = df['fare_amount']"
   ]
  },
  {
   "cell_type": "code",
   "execution_count": null,
   "metadata": {
    "id": "apqD0Bj9NuiV"
   },
   "outputs": [],
   "source": [
    "from sklearn.model_selection import train_test_split\n",
    "X_train, X_test, y_train, y_test= train_test_split(X, y, test_size=0.33)"
   ]
  },
  {
   "cell_type": "code",
   "execution_count": null,
   "metadata": {
    "colab": {
     "base_uri": "https://localhost:8080/"
    },
    "id": "5fdvsCM-NuiV",
    "outputId": "43896774-02fe-4d42-e30d-2e850baa7f22"
   },
   "outputs": [],
   "source": [
    "from sklearn.linear_model import LinearRegression\n",
    "\n",
    "lin_reg = LinearRegression()\n",
    "lin_reg.fit(X_train, y_train)\n",
    "\n",
    "print(\"Intercept :\", lin_reg.intercept_)             #To find the linear intercept\n",
    "print(\"\\nLinear Coefficients :\", lin_reg.coef_)      #To find the linear coeeficient\n",
    "\n",
    "print()\n",
    "prediction = lin_reg.predict(X_test)                 #To predict the target values\n",
    "print(prediction)\n",
    "y_test"
   ]
  },
  {
   "cell_type": "code",
   "execution_count": null,
   "metadata": {
    "colab": {
     "base_uri": "https://localhost:8080/"
    },
    "id": "r2GXR95kNuiV",
    "outputId": "b3ab8495-4f06-4bda-bbed-a9cad6e232aa"
   },
   "outputs": [],
   "source": [
    "from sklearn.metrics import r2_score\n",
    "print(\"R2 Score :\", r2_score(y_test, prediction))\n",
    "\n",
    "from sklearn.metrics import mean_squared_error\n",
    "MSE = mean_squared_error(y_test,prediction)\n",
    "RMSE = np.sqrt(MSE)\n",
    "print(\"RMSE :\", RMSE)"
   ]
  },
  {
   "cell_type": "code",
   "execution_count": null,
   "metadata": {
    "colab": {
     "base_uri": "https://localhost:8080/"
    },
    "id": "ruHHLtIfNuiW",
    "outputId": "12e22d9d-7d96-4b46-8bfd-e3971252ca02"
   },
   "outputs": [],
   "source": [
    "from sklearn.ensemble import RandomForestRegressor\n",
    "\n",
    "rf = RandomForestRegressor(n_estimators=100) \n",
    "# Here, n_estimators means number of trees you want to build before making the prediction\n",
    "rf.fit(X_train, y_train)\n",
    "y_pred = rf.predict(X_test)\n",
    "y_pred"
   ]
  },
  {
   "cell_type": "code",
   "execution_count": null,
   "metadata": {
    "colab": {
     "base_uri": "https://localhost:8080/"
    },
    "id": "Tj9oqDMxNuiX",
    "outputId": "be288c6d-4029-4b27-97fc-5a4901773d84"
   },
   "outputs": [],
   "source": [
    "R2_Random = r2_score(y_test,y_pred)\n",
    "print(\"R2 Score :\", R2_Random)\n",
    "\n",
    "MSE_Random = mean_squared_error(y_test,y_pred)\n",
    "RMSE_Random = np.sqrt(MSE_Random)\n",
    "print(\"RMSE :\", RMSE_Random)"
   ]
  },
  {
   "cell_type": "code",
   "execution_count": null,
   "metadata": {
    "id": "tdwolBQRRoPf"
   },
   "outputs": [],
   "source": []
  }
 ],
 "metadata": {
  "colab": {
   "provenance": []
  },
  "kernelspec": {
   "display_name": "Python 3",
   "language": "python",
   "name": "python3"
  },
  "language_info": {
   "codemirror_mode": {
    "name": "ipython",
    "version": 3
   },
   "file_extension": ".py",
   "mimetype": "text/x-python",
   "name": "python",
   "nbconvert_exporter": "python",
   "pygments_lexer": "ipython3",
   "version": "3.8.5"
  }
 },
 "nbformat": 4,
 "nbformat_minor": 5
}
